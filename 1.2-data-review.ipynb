{
 "cells": [
  {
   "cell_type": "code",
   "execution_count": 1,
   "id": "219080af",
   "metadata": {},
   "outputs": [],
   "source": [
    "import pandas as pd\n",
    "import numpy as np"
   ]
  },
  {
   "cell_type": "code",
   "execution_count": 2,
   "id": "92df323b",
   "metadata": {},
   "outputs": [],
   "source": [
    "X = pd.read_csv(r\"1.1-Output/ProcessedFeatures.csv\")\n",
    "y = pd.read_csv(r\"1.0-Output/AllDaysCombinedLabels.csv\")"
   ]
  },
  {
   "cell_type": "code",
   "execution_count": null,
   "id": "6d0f5fe1",
   "metadata": {},
   "outputs": [
    {
     "name": "stdout",
     "output_type": "stream",
     "text": [
      "Total Labels: 27\n",
      "Labels containing 'attempted' (11):\n",
      "FTP-Patator - Attempted\n",
      "SSH-Patator - Attempted\n",
      "DoS Slowloris - Attempted\n",
      "DoS Slowhttptest - Attempted\n",
      "DoS Hulk - Attempted\n",
      "DoS GoldenEye - Attempted\n",
      "Web Attack - Brute Force - Attempted\n",
      "Infiltration - Attempted\n",
      "Web Attack - XSS - Attempted\n",
      "Web Attack - SQL Injection - Attempted\n",
      "Botnet - Attempted\n",
      "\n",
      "\n",
      "Labels NOT containing 'attempted' (16):\n",
      "BENIGN\n",
      "FTP-Patator\n",
      "SSH-Patator\n",
      "DoS Slowloris\n",
      "DoS Slowhttptest\n",
      "DoS Hulk\n",
      "DoS GoldenEye\n",
      "Heartbleed\n",
      "Web Attack - Brute Force\n",
      "Infiltration\n",
      "Infiltration - Portscan\n",
      "Web Attack - XSS\n",
      "Web Attack - SQL Injection\n",
      "Botnet\n",
      "Portscan\n",
      "DDoS\n"
     ]
    }
   ],
   "source": [
    "print(f\"Total Labels: {len(y.Label.unique())}\")\n",
    "\n",
    "matching_labels = [label for label in y['Label'].unique() if \"attempted\" in str(label).lower()]\n",
    "print(f\"Labels containing 'attempted' ({len(matching_labels)}):\")\n",
    "for label in matching_labels:\n",
    "    print(label)\n",
    "\n",
    "print(\"\\n\")\n",
    "all_labels = y['Label'].unique()\n",
    "nonmatching_labels = [label for label in all_labels if \"attempted\" not in str(label).lower()]\n",
    "\n",
    "print(f\"Labels NOT containing 'attempted' ({len(nonmatching_labels)}):\")\n",
    "for label in nonmatching_labels:\n",
    "    print(label)\n"
   ]
  },
  {
   "cell_type": "code",
   "execution_count": 3,
   "id": "aaa26f16",
   "metadata": {},
   "outputs": [],
   "source": [
    "X.drop(columns=['ICMP Code', 'ICMP Type', 'Src Port', 'Dst Port', 'Protocol', 'Fwd URG Flags', 'Bwd URG Flags', 'URG Flag Count'], inplace=True)"
   ]
  },
  {
   "cell_type": "code",
   "execution_count": 7,
   "id": "303b9223",
   "metadata": {},
   "outputs": [
    {
     "name": "stdout",
     "output_type": "stream",
     "text": [
      "<class 'pandas.core.frame.DataFrame'>\n",
      "RangeIndex: 2099971 entries, 0 to 2099970\n",
      "Data columns (total 76 columns):\n",
      " #   Column                      Dtype  \n",
      "---  ------                      -----  \n",
      " 0   Flow Duration               int64  \n",
      " 1   Total Fwd Packet            int64  \n",
      " 2   Total Bwd packets           int64  \n",
      " 3   Total Length of Fwd Packet  int64  \n",
      " 4   Total Length of Bwd Packet  int64  \n",
      " 5   Fwd Packet Length Max       int64  \n",
      " 6   Fwd Packet Length Min       int64  \n",
      " 7   Fwd Packet Length Mean      float64\n",
      " 8   Fwd Packet Length Std       float64\n",
      " 9   Bwd Packet Length Max       int64  \n",
      " 10  Bwd Packet Length Min       int64  \n",
      " 11  Bwd Packet Length Mean      float64\n",
      " 12  Bwd Packet Length Std       float64\n",
      " 13  Flow Bytes/s                float64\n",
      " 14  Flow Packets/s              float64\n",
      " 15  Flow IAT Mean               float64\n",
      " 16  Flow IAT Std                float64\n",
      " 17  Flow IAT Max                int64  \n",
      " 18  Flow IAT Min                int64  \n",
      " 19  Fwd IAT Total               int64  \n",
      " 20  Fwd IAT Mean                float64\n",
      " 21  Fwd IAT Std                 float64\n",
      " 22  Fwd IAT Max                 int64  \n",
      " 23  Fwd IAT Min                 int64  \n",
      " 24  Bwd IAT Total               int64  \n",
      " 25  Bwd IAT Mean                float64\n",
      " 26  Bwd IAT Std                 float64\n",
      " 27  Bwd IAT Max                 int64  \n",
      " 28  Bwd IAT Min                 int64  \n",
      " 29  Fwd PSH Flags               int64  \n",
      " 30  Bwd PSH Flags               int64  \n",
      " 31  Fwd RST Flags               int64  \n",
      " 32  Bwd RST Flags               int64  \n",
      " 33  Fwd Header Length           int64  \n",
      " 34  Bwd Header Length           int64  \n",
      " 35  Fwd Packets/s               float64\n",
      " 36  Bwd Packets/s               float64\n",
      " 37  Packet Length Min           int64  \n",
      " 38  Packet Length Max           int64  \n",
      " 39  Packet Length Mean          float64\n",
      " 40  Packet Length Std           float64\n",
      " 41  Packet Length Variance      float64\n",
      " 42  FIN Flag Count              int64  \n",
      " 43  SYN Flag Count              int64  \n",
      " 44  RST Flag Count              int64  \n",
      " 45  PSH Flag Count              int64  \n",
      " 46  ACK Flag Count              int64  \n",
      " 47  CWR Flag Count              int64  \n",
      " 48  ECE Flag Count              int64  \n",
      " 49  Down/Up Ratio               float64\n",
      " 50  Average Packet Size         float64\n",
      " 51  Fwd Segment Size Avg        float64\n",
      " 52  Bwd Segment Size Avg        float64\n",
      " 53  Fwd Bytes/Bulk Avg          int64  \n",
      " 54  Fwd Packet/Bulk Avg         int64  \n",
      " 55  Fwd Bulk Rate Avg           int64  \n",
      " 56  Bwd Bytes/Bulk Avg          int64  \n",
      " 57  Bwd Packet/Bulk Avg         int64  \n",
      " 58  Bwd Bulk Rate Avg           int64  \n",
      " 59  Subflow Fwd Packets         int64  \n",
      " 60  Subflow Fwd Bytes           int64  \n",
      " 61  Subflow Bwd Packets         int64  \n",
      " 62  Subflow Bwd Bytes           int64  \n",
      " 63  FWD Init Win Bytes          int64  \n",
      " 64  Bwd Init Win Bytes          int64  \n",
      " 65  Fwd Act Data Pkts           int64  \n",
      " 66  Fwd Seg Size Min            int64  \n",
      " 67  Active Mean                 float64\n",
      " 68  Active Std                  float64\n",
      " 69  Active Max                  int64  \n",
      " 70  Active Min                  int64  \n",
      " 71  Idle Mean                   float64\n",
      " 72  Idle Std                    float64\n",
      " 73  Idle Max                    int64  \n",
      " 74  Idle Min                    int64  \n",
      " 75  Total TCP Flow Time         int64  \n",
      "dtypes: float64(25), int64(51)\n",
      "memory usage: 1.2 GB\n"
     ]
    }
   ],
   "source": [
    "X.info()"
   ]
  },
  {
   "cell_type": "code",
   "execution_count": 8,
   "id": "5b1991d5",
   "metadata": {},
   "outputs": [
    {
     "name": "stdout",
     "output_type": "stream",
     "text": [
      "                       Feature  Fisher Score\n",
      "52        Bwd Segment Size Avg      0.851204\n",
      "11      Bwd Packet Length Mean      0.851204\n",
      "40           Packet Length Std      0.818693\n",
      "62           Subflow Bwd Bytes      0.796039\n",
      "9        Bwd Packet Length Max      0.762805\n",
      "..                         ...           ...\n",
      "2            Total Bwd packets      0.000014\n",
      "57         Bwd Packet/Bulk Avg      0.000013\n",
      "46              ACK Flag Count      0.000012\n",
      "1             Total Fwd Packet      0.000012\n",
      "4   Total Length of Bwd Packet      0.000008\n",
      "\n",
      "[76 rows x 2 columns]\n"
     ]
    }
   ],
   "source": [
    "# Convert to Series if single-column DataFrame\n",
    "if isinstance(y, pd.DataFrame):\n",
    "    y = y.iloc[:, 0]\n",
    "\n",
    "# Ensure target is categorical\n",
    "y = y.astype('category')\n",
    "\n",
    "# Initialize result container\n",
    "fisher_scores = {}\n",
    "\n",
    "# Loop through features\n",
    "for feature in X.columns:\n",
    "    overall_mean = X[feature].mean()\n",
    "    numerator = 0.0\n",
    "    denominator = 0.0\n",
    "\n",
    "    for cls in y.unique():\n",
    "        class_mask = y == cls\n",
    "        n_i = class_mask.sum()\n",
    "        x_i = X.loc[class_mask, feature]\n",
    "        mu_i = x_i.mean()\n",
    "        sigma_i = x_i.var()\n",
    "\n",
    "        numerator += n_i * (mu_i - overall_mean) ** 2\n",
    "        denominator += n_i * sigma_i\n",
    "\n",
    "    # Avoid divide-by-zero\n",
    "    fisher_score = numerator / denominator if denominator != 0 else 0\n",
    "    fisher_scores[feature] = fisher_score\n",
    "\n",
    "# Convert to DataFrame and sort\n",
    "fisher_df = pd.DataFrame(list(fisher_scores.items()), columns=['Feature', 'Fisher Score'])\n",
    "fisher_df = fisher_df.sort_values(by='Fisher Score', ascending=False)\n",
    "\n",
    "# Display top features\n",
    "print(fisher_df)"
   ]
  },
  {
   "cell_type": "code",
   "execution_count": 9,
   "id": "511f3560",
   "metadata": {},
   "outputs": [
    {
     "data": {
      "application/vnd.microsoft.datawrangler.viewer.v0+json": {
       "columns": [
        {
         "name": "index",
         "rawType": "int64",
         "type": "integer"
        },
        {
         "name": "Feature",
         "rawType": "object",
         "type": "string"
        },
        {
         "name": "Fisher Score",
         "rawType": "float64",
         "type": "float"
        }
       ],
       "ref": "922957a4-ae78-40c1-a19c-7f98a8185533",
       "rows": [
        [
         "52",
         "Bwd Segment Size Avg",
         "0.8512044787117086"
        ],
        [
         "11",
         "Bwd Packet Length Mean",
         "0.8512044787117086"
        ],
        [
         "40",
         "Packet Length Std",
         "0.8186932137072418"
        ],
        [
         "62",
         "Subflow Bwd Bytes",
         "0.7960387561895181"
        ],
        [
         "9",
         "Bwd Packet Length Max",
         "0.7628049175070801"
        ],
        [
         "39",
         "Packet Length Mean",
         "0.7581190617430879"
        ],
        [
         "50",
         "Average Packet Size",
         "0.7581190617430876"
        ],
        [
         "12",
         "Bwd Packet Length Std",
         "0.7402168008976414"
        ],
        [
         "38",
         "Packet Length Max",
         "0.7282489442232368"
        ],
        [
         "58",
         "Bwd Bulk Rate Avg",
         "0.6628131490156873"
        ],
        [
         "41",
         "Packet Length Variance",
         "0.5819795933557518"
        ],
        [
         "31",
         "Fwd RST Flags",
         "0.3327495135194655"
        ],
        [
         "44",
         "RST Flag Count",
         "0.2439205155049436"
        ],
        [
         "43",
         "SYN Flag Count",
         "0.18664314648478258"
        ],
        [
         "63",
         "FWD Init Win Bytes",
         "0.13449565212541684"
        ],
        [
         "66",
         "Fwd Seg Size Min",
         "0.12096350512859755"
        ],
        [
         "37",
         "Packet Length Min",
         "0.10722763888046108"
        ],
        [
         "70",
         "Active Min",
         "0.10264634681076759"
        ],
        [
         "26",
         "Bwd IAT Std",
         "0.1011433584281256"
        ],
        [
         "67",
         "Active Mean",
         "0.0963297638354405"
        ],
        [
         "10",
         "Bwd Packet Length Min",
         "0.08120429576514501"
        ],
        [
         "21",
         "Fwd IAT Std",
         "0.07637855331549553"
        ],
        [
         "32",
         "Bwd RST Flags",
         "0.06458761857798374"
        ],
        [
         "59",
         "Subflow Fwd Packets",
         "0.06155440610138266"
        ],
        [
         "6",
         "Fwd Packet Length Min",
         "0.05801671874057603"
        ],
        [
         "27",
         "Bwd IAT Max",
         "0.05576407320336545"
        ],
        [
         "25",
         "Bwd IAT Mean",
         "0.053116680585022745"
        ],
        [
         "42",
         "FIN Flag Count",
         "0.051418411625212296"
        ],
        [
         "17",
         "Flow IAT Max",
         "0.04946450166960543"
        ],
        [
         "22",
         "Fwd IAT Max",
         "0.04934288232386862"
        ],
        [
         "73",
         "Idle Max",
         "0.049118239908978144"
        ],
        [
         "69",
         "Active Max",
         "0.04900737373895328"
        ],
        [
         "16",
         "Flow IAT Std",
         "0.04602674406442367"
        ],
        [
         "49",
         "Down/Up Ratio",
         "0.041911296606969434"
        ],
        [
         "71",
         "Idle Mean",
         "0.039090322617912385"
        ],
        [
         "72",
         "Idle Std",
         "0.038876074738948954"
        ],
        [
         "68",
         "Active Std",
         "0.03657300599839252"
        ],
        [
         "74",
         "Idle Min",
         "0.03448553645851683"
        ],
        [
         "15",
         "Flow IAT Mean",
         "0.03132880090168154"
        ],
        [
         "28",
         "Bwd IAT Min",
         "0.029434029681067394"
        ],
        [
         "0",
         "Flow Duration",
         "0.02746111888440912"
        ],
        [
         "19",
         "Fwd IAT Total",
         "0.0273647598924844"
        ],
        [
         "20",
         "Fwd IAT Mean",
         "0.027108638870103917"
        ],
        [
         "24",
         "Bwd IAT Total",
         "0.025618380297428807"
        ],
        [
         "8",
         "Fwd Packet Length Std",
         "0.018864382545066175"
        ],
        [
         "23",
         "Fwd IAT Min",
         "0.017548212012839123"
        ],
        [
         "36",
         "Bwd Packets/s",
         "0.016135085968065923"
        ],
        [
         "14",
         "Flow Packets/s",
         "0.01261147804632374"
        ],
        [
         "60",
         "Subflow Fwd Bytes",
         "0.01234882989767834"
        ],
        [
         "5",
         "Fwd Packet Length Max",
         "0.010560273491625619"
        ]
       ],
       "shape": {
        "columns": 2,
        "rows": 76
       }
      },
      "text/html": [
       "<div>\n",
       "<style scoped>\n",
       "    .dataframe tbody tr th:only-of-type {\n",
       "        vertical-align: middle;\n",
       "    }\n",
       "\n",
       "    .dataframe tbody tr th {\n",
       "        vertical-align: top;\n",
       "    }\n",
       "\n",
       "    .dataframe thead th {\n",
       "        text-align: right;\n",
       "    }\n",
       "</style>\n",
       "<table border=\"1\" class=\"dataframe\">\n",
       "  <thead>\n",
       "    <tr style=\"text-align: right;\">\n",
       "      <th></th>\n",
       "      <th>Feature</th>\n",
       "      <th>Fisher Score</th>\n",
       "    </tr>\n",
       "  </thead>\n",
       "  <tbody>\n",
       "    <tr>\n",
       "      <th>52</th>\n",
       "      <td>Bwd Segment Size Avg</td>\n",
       "      <td>0.851204</td>\n",
       "    </tr>\n",
       "    <tr>\n",
       "      <th>11</th>\n",
       "      <td>Bwd Packet Length Mean</td>\n",
       "      <td>0.851204</td>\n",
       "    </tr>\n",
       "    <tr>\n",
       "      <th>40</th>\n",
       "      <td>Packet Length Std</td>\n",
       "      <td>0.818693</td>\n",
       "    </tr>\n",
       "    <tr>\n",
       "      <th>62</th>\n",
       "      <td>Subflow Bwd Bytes</td>\n",
       "      <td>0.796039</td>\n",
       "    </tr>\n",
       "    <tr>\n",
       "      <th>9</th>\n",
       "      <td>Bwd Packet Length Max</td>\n",
       "      <td>0.762805</td>\n",
       "    </tr>\n",
       "    <tr>\n",
       "      <th>...</th>\n",
       "      <td>...</td>\n",
       "      <td>...</td>\n",
       "    </tr>\n",
       "    <tr>\n",
       "      <th>2</th>\n",
       "      <td>Total Bwd packets</td>\n",
       "      <td>0.000014</td>\n",
       "    </tr>\n",
       "    <tr>\n",
       "      <th>57</th>\n",
       "      <td>Bwd Packet/Bulk Avg</td>\n",
       "      <td>0.000013</td>\n",
       "    </tr>\n",
       "    <tr>\n",
       "      <th>46</th>\n",
       "      <td>ACK Flag Count</td>\n",
       "      <td>0.000012</td>\n",
       "    </tr>\n",
       "    <tr>\n",
       "      <th>1</th>\n",
       "      <td>Total Fwd Packet</td>\n",
       "      <td>0.000012</td>\n",
       "    </tr>\n",
       "    <tr>\n",
       "      <th>4</th>\n",
       "      <td>Total Length of Bwd Packet</td>\n",
       "      <td>0.000008</td>\n",
       "    </tr>\n",
       "  </tbody>\n",
       "</table>\n",
       "<p>76 rows × 2 columns</p>\n",
       "</div>"
      ],
      "text/plain": [
       "                       Feature  Fisher Score\n",
       "52        Bwd Segment Size Avg      0.851204\n",
       "11      Bwd Packet Length Mean      0.851204\n",
       "40           Packet Length Std      0.818693\n",
       "62           Subflow Bwd Bytes      0.796039\n",
       "9        Bwd Packet Length Max      0.762805\n",
       "..                         ...           ...\n",
       "2            Total Bwd packets      0.000014\n",
       "57         Bwd Packet/Bulk Avg      0.000013\n",
       "46              ACK Flag Count      0.000012\n",
       "1             Total Fwd Packet      0.000012\n",
       "4   Total Length of Bwd Packet      0.000008\n",
       "\n",
       "[76 rows x 2 columns]"
      ]
     },
     "execution_count": 9,
     "metadata": {},
     "output_type": "execute_result"
    }
   ],
   "source": [
    "fisher_df"
   ]
  }
 ],
 "metadata": {
  "kernelspec": {
   "display_name": "Python 3",
   "language": "python",
   "name": "python3"
  },
  "language_info": {
   "codemirror_mode": {
    "name": "ipython",
    "version": 3
   },
   "file_extension": ".py",
   "mimetype": "text/x-python",
   "name": "python",
   "nbconvert_exporter": "python",
   "pygments_lexer": "ipython3",
   "version": "3.8.10"
  }
 },
 "nbformat": 4,
 "nbformat_minor": 5
}
