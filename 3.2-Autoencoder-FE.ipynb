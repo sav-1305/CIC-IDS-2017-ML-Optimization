{
 "cells": [
  {
   "cell_type": "code",
   "execution_count": 1,
   "id": "b087b1fa",
   "metadata": {},
   "outputs": [],
   "source": [
    "import pandas as pd\n",
    "import numpy as np\n",
    "import matplotlib.pyplot as plt\n",
    "import seaborn as sns"
   ]
  },
  {
   "cell_type": "code",
   "execution_count": 2,
   "id": "059f7bbd",
   "metadata": {},
   "outputs": [],
   "source": [
    "X = pd.read_csv(r\"1.1-Output/ProcessedFeatures.csv\")\n",
    "y = pd.read_csv(r\"1.1-Output/ProcessedLabels.csv\")"
   ]
  },
  {
   "cell_type": "code",
   "execution_count": 3,
   "id": "9899ee65",
   "metadata": {},
   "outputs": [],
   "source": [
    "X.drop(columns=['ICMP Code', 'ICMP Type', 'Src Port', 'Dst Port', 'Protocol', 'Fwd URG Flags', 'Bwd URG Flags', 'URG Flag Count'], inplace=True)"
   ]
  },
  {
   "cell_type": "code",
   "execution_count": 4,
   "id": "c5187d40",
   "metadata": {},
   "outputs": [
    {
     "name": "stdout",
     "output_type": "stream",
     "text": [
      "Shape of Input Features: (2099971, 76)\n"
     ]
    }
   ],
   "source": [
    "print(f\"Shape of Input Features: {X.shape}\")"
   ]
  },
  {
   "cell_type": "code",
   "execution_count": 11,
   "id": "f9b8dec2",
   "metadata": {},
   "outputs": [],
   "source": [
    "import keras\n",
    "from keras.models import Sequential, Model\n",
    "from keras.layers import Input, Dense, BatchNormalization, ReLU"
   ]
  },
  {
   "cell_type": "code",
   "execution_count": 6,
   "id": "227437ea",
   "metadata": {},
   "outputs": [],
   "source": [
    "from sklearn.preprocessing import MinMaxScaler\n",
    "\n",
    "scaler = MinMaxScaler()\n",
    "X_scaled = scaler.fit_transform(X)"
   ]
  },
  {
   "cell_type": "code",
   "execution_count": 12,
   "id": "ddfb2f63",
   "metadata": {},
   "outputs": [
    {
     "name": "stdout",
     "output_type": "stream",
     "text": [
      "Model: \"model\"\n",
      "_________________________________________________________________\n",
      " Layer (type)                Output Shape              Param #   \n",
      "=================================================================\n",
      " input_1 (InputLayer)        [(None, 76)]              0         \n",
      "                                                                 \n",
      " dense (Dense)               (None, 64)                4928      \n",
      "                                                                 \n",
      " batch_normalization (Batch  (None, 64)                256       \n",
      " Normalization)                                                  \n",
      "                                                                 \n",
      " re_lu (ReLU)                (None, 64)                0         \n",
      "                                                                 \n",
      " dense_1 (Dense)             (None, 32)                2080      \n",
      "                                                                 \n",
      " latent_space (Dense)        (None, 20)                660       \n",
      "                                                                 \n",
      " dense_2 (Dense)             (None, 32)                672       \n",
      "                                                                 \n",
      " dense_3 (Dense)             (None, 64)                2112      \n",
      "                                                                 \n",
      " dense_4 (Dense)             (None, 76)                4940      \n",
      "                                                                 \n",
      "=================================================================\n",
      "Total params: 15648 (61.12 KB)\n",
      "Trainable params: 15520 (60.62 KB)\n",
      "Non-trainable params: 128 (512.00 Byte)\n",
      "_________________________________________________________________\n"
     ]
    }
   ],
   "source": [
    "# build autoencoder\n",
    "input_dim = X_scaled.shape[1]\n",
    "encoding_dim = 20\n",
    "\n",
    "# Encoder\n",
    "input_layer = Input(shape=(input_dim,))\n",
    "x = Dense(64)(input_layer)\n",
    "x = BatchNormalization()(x)\n",
    "x = ReLU()(x)\n",
    "x = Dense(32, activation='relu')(x)\n",
    "latent = Dense(encoding_dim, activation='relu', name=\"latent_space\")(x)\n",
    "\n",
    "# Decoder\n",
    "x = Dense(32, activation='relu')(latent)\n",
    "x = Dense(64, activation='relu')(x)\n",
    "output_layer = Dense(input_dim, activation='sigmoid')(x)\n",
    "\n",
    "# Autoencoder\n",
    "autoencoder = Model(inputs=input_layer, outputs=output_layer)\n",
    "autoencoder.compile(optimizer='adam', loss='mse')\n",
    "autoencoder.summary()"
   ]
  },
  {
   "cell_type": "code",
   "execution_count": 13,
   "id": "cea4b886",
   "metadata": {},
   "outputs": [
    {
     "name": "stdout",
     "output_type": "stream",
     "text": [
      "Epoch 1/50\n",
      "7383/7383 [==============================] - 25s 3ms/step - loss: 9.9677e-04 - val_loss: 1.0385e-04\n",
      "Epoch 2/50\n",
      "7383/7383 [==============================] - 28s 4ms/step - loss: 7.1973e-05 - val_loss: 4.1189e-05\n",
      "Epoch 3/50\n",
      "7383/7383 [==============================] - 33s 4ms/step - loss: 5.4349e-05 - val_loss: 2.5512e-05\n",
      "Epoch 4/50\n",
      "7383/7383 [==============================] - 19s 3ms/step - loss: 4.6683e-05 - val_loss: 2.3826e-05\n",
      "Epoch 5/50\n",
      "7383/7383 [==============================] - 23s 3ms/step - loss: 4.1724e-05 - val_loss: 2.3332e-05\n",
      "Epoch 6/50\n",
      "7383/7383 [==============================] - 37s 5ms/step - loss: 3.8055e-05 - val_loss: 1.6204e-05\n",
      "Epoch 7/50\n",
      "7383/7383 [==============================] - 24s 3ms/step - loss: 3.5552e-05 - val_loss: 4.0630e-05\n",
      "Epoch 8/50\n",
      "7383/7383 [==============================] - 19s 3ms/step - loss: 3.2743e-05 - val_loss: 1.8500e-05\n",
      "Epoch 9/50\n",
      "7383/7383 [==============================] - 24s 3ms/step - loss: 3.0532e-05 - val_loss: 1.6344e-05\n",
      "Epoch 10/50\n",
      "7383/7383 [==============================] - 24s 3ms/step - loss: 2.8710e-05 - val_loss: 2.3289e-05\n",
      "Epoch 11/50\n",
      "7383/7383 [==============================] - 21s 3ms/step - loss: 2.7699e-05 - val_loss: 9.6116e-06\n",
      "Epoch 12/50\n",
      "7383/7383 [==============================] - 24s 3ms/step - loss: 2.6406e-05 - val_loss: 1.3658e-05\n",
      "Epoch 13/50\n",
      "7383/7383 [==============================] - 22s 3ms/step - loss: 2.5467e-05 - val_loss: 9.1122e-06\n",
      "Epoch 14/50\n",
      "7383/7383 [==============================] - 24s 3ms/step - loss: 2.4538e-05 - val_loss: 1.2633e-05\n",
      "Epoch 15/50\n",
      "7383/7383 [==============================] - 24s 3ms/step - loss: 2.3702e-05 - val_loss: 1.0732e-05\n",
      "Epoch 16/50\n",
      "7383/7383 [==============================] - 26s 3ms/step - loss: 2.2988e-05 - val_loss: 1.3340e-05\n",
      "Epoch 17/50\n",
      "7383/7383 [==============================] - 25s 3ms/step - loss: 2.2420e-05 - val_loss: 1.1261e-05\n",
      "Epoch 18/50\n",
      "7383/7383 [==============================] - 35s 5ms/step - loss: 2.1991e-05 - val_loss: 8.6431e-06\n",
      "Epoch 19/50\n",
      "7383/7383 [==============================] - 49s 7ms/step - loss: 2.1437e-05 - val_loss: 1.3362e-05\n",
      "Epoch 20/50\n",
      "7383/7383 [==============================] - 48s 7ms/step - loss: 2.1116e-05 - val_loss: 6.9999e-06\n",
      "Epoch 21/50\n",
      "7383/7383 [==============================] - 49s 7ms/step - loss: 2.0618e-05 - val_loss: 1.4917e-05\n",
      "Epoch 22/50\n",
      "7383/7383 [==============================] - 49s 7ms/step - loss: 1.9157e-05 - val_loss: 8.2575e-06\n",
      "Epoch 23/50\n",
      "7383/7383 [==============================] - 49s 7ms/step - loss: 1.8419e-05 - val_loss: 7.3753e-06\n",
      "Epoch 24/50\n",
      "7383/7383 [==============================] - 49s 7ms/step - loss: 1.7740e-05 - val_loss: 1.0800e-05\n",
      "Epoch 25/50\n",
      "7383/7383 [==============================] - 48s 7ms/step - loss: 1.7790e-05 - val_loss: 8.5460e-06\n",
      "Epoch 26/50\n",
      "7383/7383 [==============================] - 49s 7ms/step - loss: 1.7289e-05 - val_loss: 6.7843e-06\n",
      "Epoch 27/50\n",
      "7383/7383 [==============================] - 48s 7ms/step - loss: 1.7280e-05 - val_loss: 7.7617e-06\n",
      "Epoch 28/50\n",
      "7383/7383 [==============================] - 48s 7ms/step - loss: 1.7105e-05 - val_loss: 1.1069e-05\n",
      "Epoch 29/50\n",
      "7383/7383 [==============================] - 48s 7ms/step - loss: 1.6755e-05 - val_loss: 7.2377e-06\n",
      "Epoch 30/50\n",
      "7383/7383 [==============================] - 48s 7ms/step - loss: 1.6579e-05 - val_loss: 6.8925e-06\n",
      "Epoch 31/50\n",
      "7383/7383 [==============================] - 49s 7ms/step - loss: 1.6382e-05 - val_loss: 6.5050e-06\n",
      "Epoch 32/50\n",
      "7383/7383 [==============================] - 28s 4ms/step - loss: 1.6167e-05 - val_loss: 6.8110e-06\n",
      "Epoch 33/50\n",
      "7383/7383 [==============================] - 26s 3ms/step - loss: 1.6009e-05 - val_loss: 1.1194e-05\n",
      "Epoch 34/50\n",
      "7383/7383 [==============================] - 22s 3ms/step - loss: 1.6071e-05 - val_loss: 6.1638e-06\n",
      "Epoch 35/50\n",
      "7383/7383 [==============================] - 24s 3ms/step - loss: 1.5777e-05 - val_loss: 6.3057e-06\n",
      "Epoch 36/50\n",
      "7383/7383 [==============================] - 22s 3ms/step - loss: 1.5728e-05 - val_loss: 6.7040e-06\n",
      "Epoch 37/50\n",
      "7383/7383 [==============================] - 24s 3ms/step - loss: 1.5391e-05 - val_loss: 8.0814e-06\n",
      "Epoch 38/50\n",
      "7383/7383 [==============================] - 22s 3ms/step - loss: 1.5256e-05 - val_loss: 8.8564e-06\n",
      "Epoch 39/50\n",
      "7383/7383 [==============================] - 26s 3ms/step - loss: 1.4989e-05 - val_loss: 9.5547e-06\n",
      "Epoch 40/50\n",
      "7383/7383 [==============================] - 20s 3ms/step - loss: 1.4839e-05 - val_loss: 6.3918e-06\n",
      "Epoch 41/50\n",
      "7383/7383 [==============================] - 23s 3ms/step - loss: 1.4844e-05 - val_loss: 5.3036e-06\n",
      "Epoch 42/50\n",
      "7383/7383 [==============================] - 24s 3ms/step - loss: 1.4833e-05 - val_loss: 6.0029e-06\n",
      "Epoch 43/50\n",
      "7383/7383 [==============================] - 37s 5ms/step - loss: 1.4617e-05 - val_loss: 6.2945e-06\n",
      "Epoch 44/50\n",
      "7383/7383 [==============================] - 49s 7ms/step - loss: 1.4692e-05 - val_loss: 5.7451e-06\n",
      "Epoch 45/50\n",
      "7383/7383 [==============================] - 50s 7ms/step - loss: 1.4601e-05 - val_loss: 6.2026e-06\n",
      "Epoch 46/50\n",
      "7383/7383 [==============================] - 49s 7ms/step - loss: 1.4460e-05 - val_loss: 8.6033e-06\n",
      "Epoch 47/50\n",
      "7383/7383 [==============================] - 49s 7ms/step - loss: 1.4174e-05 - val_loss: 6.2696e-06\n",
      "Epoch 48/50\n",
      "7383/7383 [==============================] - 49s 7ms/step - loss: 1.4203e-05 - val_loss: 7.5383e-06\n",
      "Epoch 49/50\n",
      "7383/7383 [==============================] - 49s 7ms/step - loss: 1.4328e-05 - val_loss: 7.3140e-06\n",
      "Epoch 50/50\n",
      "7383/7383 [==============================] - 49s 7ms/step - loss: 1.4014e-05 - val_loss: 8.9817e-06\n"
     ]
    },
    {
     "data": {
      "text/plain": [
       "<keras.src.callbacks.History at 0x2449a90f760>"
      ]
     },
     "execution_count": 13,
     "metadata": {},
     "output_type": "execute_result"
    }
   ],
   "source": [
    "from keras.callbacks import EarlyStopping\n",
    "\n",
    "early_stop = EarlyStopping(monitor='loss', patience=10, restore_best_weights=True)\n",
    "\n",
    "autoencoder.fit(\n",
    "    X_scaled, X_scaled,\n",
    "    epochs=50,\n",
    "    batch_size=256,\n",
    "    shuffle=True,\n",
    "    validation_split=0.1,\n",
    "    callbacks=[early_stop],\n",
    "    verbose=1\n",
    ")"
   ]
  },
  {
   "cell_type": "code",
   "execution_count": 14,
   "id": "947592a0",
   "metadata": {},
   "outputs": [
    {
     "name": "stdout",
     "output_type": "stream",
     "text": [
      "65625/65625 [==============================] - 50s 764us/step\n",
      "Encoded feature shape: (2099971, 20)\n",
      "65625/65625 [==============================] - 68s 1ms/step\n"
     ]
    }
   ],
   "source": [
    "encoder_model = Model(inputs=autoencoder.input,\n",
    "                      outputs=autoencoder.get_layer(\"latent_space\").output)\n",
    "\n",
    "X_encoded = encoder_model.predict(X_scaled)\n",
    "print(\"Encoded feature shape:\", X_encoded.shape)\n",
    "\n",
    "X_reconstructed = autoencoder.predict(X_scaled)"
   ]
  },
  {
   "cell_type": "code",
   "execution_count": 15,
   "id": "6f3807d8",
   "metadata": {},
   "outputs": [
    {
     "data": {
      "image/png": "[encoded data removed]",
      "text/plain": [
       "<Figure size 1000x800 with 2 Axes>"
      ]
     },
     "metadata": {},
     "output_type": "display_data"
    }
   ],
   "source": [
    "encoded_df = pd.DataFrame(X_encoded)  # assuming X_encoded is ndarray\n",
    "plt.figure(figsize=(10, 8))\n",
    "encoded_corr = encoded_df.corr()\n",
    "sns.heatmap(encoded_corr, cmap='coolwarm', annot=False)\n",
    "plt.title(\"Correlation Heatmap - Autoencoder Features\")\n",
    "plt.show()"
   ]
  },
  {
   "cell_type": "code",
   "execution_count": 16,
   "id": "4e7939b1",
   "metadata": {},
   "outputs": [
    {
     "name": "stdout",
     "output_type": "stream",
     "text": [
      "Autoencoder Reconstruction MSE: 1.4085592185820068e-05\n"
     ]
    }
   ],
   "source": [
    "from sklearn.metrics import mean_squared_error\n",
    "\n",
    "mse_autoencoder = mean_squared_error(X_scaled, X_reconstructed)\n",
    "print(\"Autoencoder Reconstruction MSE:\", mse_autoencoder)"
   ]
  },
  {
   "cell_type": "code",
   "execution_count": 17,
   "id": "c2c3fd28",
   "metadata": {},
   "outputs": [
    {
     "name": "stdout",
     "output_type": "stream",
     "text": [
      "Autoencoder MAE: 0.0012912525681448767 | R²: 0.8122421894265646\n"
     ]
    }
   ],
   "source": [
    "from sklearn.metrics import mean_absolute_error, r2_score\n",
    "\n",
    "mae_auto = mean_absolute_error(X_scaled, X_reconstructed)\n",
    "r2_auto = r2_score(X_scaled, X_reconstructed)\n",
    "\n",
    "print(\"Autoencoder MAE:\", mae_auto, \"| R²:\", r2_auto)"
   ]
  }
 ],
 "metadata": {
  "kernelspec": {
   "display_name": "Python 3",
   "language": "python",
   "name": "python3"
  },
  "language_info": {
   "codemirror_mode": {
    "name": "ipython",
    "version": 3
   },
   "file_extension": ".py",
   "mimetype": "text/x-python",
   "name": "python",
   "nbconvert_exporter": "python",
   "pygments_lexer": "ipython3",
   "version": "3.8.10"
  }
 },
 "nbformat": 4,
 "nbformat_minor": 5
}
