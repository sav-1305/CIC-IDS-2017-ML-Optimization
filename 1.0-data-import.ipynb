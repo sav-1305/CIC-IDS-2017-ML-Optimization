{
 "cells": [
  {
   "cell_type": "code",
   "execution_count": 1,
   "id": "19c50749",
   "metadata": {},
   "outputs": [
    {
     "name": "stderr",
     "output_type": "stream",
     "text": [
      "Retrieving folder contents\n"
     ]
    },
    {
     "name": "stdout",
     "output_type": "stream",
     "text": [
      "Processing file 1X1_OoGtGOTBBPu9-zOSK_wMVsJa9I2Pg friday.csv\n",
      "Processing file 1SY5UwhkrLw4uCd4jCZb_WU1bzov9GPhD monday.csv\n",
      "Processing file 1aWQxAgvXdQya86ygSsb1TJGNdw2DxtMJ thursday.csv\n",
      "Processing file 1OIkLmzHshhtjRIPdJQj3uNoVBEiKHUJi tuesday.csv\n",
      "Processing file 1sHc5IeNTnTOGJ6BDyW5GRelA9Rg7O7AX wednesday.csv\n"
     ]
    },
    {
     "name": "stderr",
     "output_type": "stream",
     "text": [
      "Retrieving folder contents completed\n",
      "Building directory structure\n",
      "Building directory structure completed\n",
      "Downloading...\n",
      "From (original): https://drive.google.com/uc?id=1X1_OoGtGOTBBPu9-zOSK_wMVsJa9I2Pg\n",
      "From (redirected): https://drive.google.com/uc?id=1X1_OoGtGOTBBPu9-zOSK_wMVsJa9I2Pg&confirm=t&uuid=2e76ae8f-b881-4144-8632-3466fd779852\n",
      "To: c:\\Users\\HP\\Documents\\Articles and Publications\\FS vs FE vs FO for optimizing ML models\\Repositories\\CIC-IDS-2017-NIDS-Optimization\\CIC-IDS-2017-ImprovedGeneratedLabels\\friday.csv\n",
      "100%|██████████| 285M/285M [00:29<00:00, 9.66MB/s] \n",
      "Downloading...\n",
      "From (original): https://drive.google.com/uc?id=1SY5UwhkrLw4uCd4jCZb_WU1bzov9GPhD\n",
      "From (redirected): https://drive.google.com/uc?id=1SY5UwhkrLw4uCd4jCZb_WU1bzov9GPhD&confirm=t&uuid=889ec57d-4250-4987-a852-034abf7c94fa\n",
      "To: c:\\Users\\HP\\Documents\\Articles and Publications\\FS vs FE vs FO for optimizing ML models\\Repositories\\CIC-IDS-2017-NIDS-Optimization\\CIC-IDS-2017-ImprovedGeneratedLabels\\monday.csv\n",
      "100%|██████████| 208M/208M [00:16<00:00, 12.3MB/s] \n",
      "Downloading...\n",
      "From (original): https://drive.google.com/uc?id=1aWQxAgvXdQya86ygSsb1TJGNdw2DxtMJ\n",
      "From (redirected): https://drive.google.com/uc?id=1aWQxAgvXdQya86ygSsb1TJGNdw2DxtMJ&confirm=t&uuid=4fb1ff5d-5980-4686-b909-a73a069ce34d\n",
      "To: c:\\Users\\HP\\Documents\\Articles and Publications\\FS vs FE vs FO for optimizing ML models\\Repositories\\CIC-IDS-2017-NIDS-Optimization\\CIC-IDS-2017-ImprovedGeneratedLabels\\thursday.csv\n",
      "100%|██████████| 190M/190M [00:15<00:00, 12.4MB/s] \n",
      "Downloading...\n",
      "From (original): https://drive.google.com/uc?id=1OIkLmzHshhtjRIPdJQj3uNoVBEiKHUJi\n",
      "From (redirected): https://drive.google.com/uc?id=1OIkLmzHshhtjRIPdJQj3uNoVBEiKHUJi&confirm=t&uuid=120fb0ce-a907-4ac4-9b09-0d973d21cd49\n",
      "To: c:\\Users\\HP\\Documents\\Articles and Publications\\FS vs FE vs FO for optimizing ML models\\Repositories\\CIC-IDS-2017-NIDS-Optimization\\CIC-IDS-2017-ImprovedGeneratedLabels\\tuesday.csv\n",
      "100%|██████████| 178M/178M [00:14<00:00, 12.5MB/s] \n",
      "Downloading...\n",
      "From (original): https://drive.google.com/uc?id=1sHc5IeNTnTOGJ6BDyW5GRelA9Rg7O7AX\n",
      "From (redirected): https://drive.google.com/uc?id=1sHc5IeNTnTOGJ6BDyW5GRelA9Rg7O7AX&confirm=t&uuid=981338fc-8a52-418e-864f-52f69db1e8fa\n",
      "To: c:\\Users\\HP\\Documents\\Articles and Publications\\FS vs FE vs FO for optimizing ML models\\Repositories\\CIC-IDS-2017-NIDS-Optimization\\CIC-IDS-2017-ImprovedGeneratedLabels\\wednesday.csv\n",
      "100%|██████████| 291M/291M [00:23<00:00, 12.2MB/s] \n",
      "Download completed\n"
     ]
    }
   ],
   "source": [
    "import os\n",
    "import gdown\n",
    "\n",
    "folder_id = \"1MNzO17dFX2JWcojpVpg5ujvIzKrgICW4\"\n",
    "output_path = \"CIC-IDS-2017-ImprovedGeneratedLabels\"\n",
    "\n",
    "if not os.path.exists(output_path):\n",
    "    gdown.download_folder(\n",
    "        id=folder_id,\n",
    "        output=output_path,\n",
    "        quiet=False,\n",
    "        use_cookies=False\n",
    "    )"
   ]
  },
  {
   "cell_type": "code",
   "execution_count": 2,
   "id": "8c992b56",
   "metadata": {},
   "outputs": [
    {
     "name": "stdout",
     "output_type": "stream",
     "text": [
      "Network Flow processed logs (Mon - Fri) loaded!\n"
     ]
    }
   ],
   "source": [
    "import pandas as pd\n",
    "\n",
    "folder = \"CIC-IDS-2017-ImprovedGeneratedLabels\"\n",
    "\n",
    "df_mon = pd.read_csv(f\"{folder}/monday.csv\")\n",
    "df_tue = pd.read_csv(f\"{folder}/tuesday.csv\")\n",
    "df_wed = pd.read_csv(f\"{folder}/wednesday.csv\")\n",
    "df_thu = pd.read_csv(f\"{folder}/thursday.csv\")\n",
    "df_fri = pd.read_csv(f\"{folder}/friday.csv\")\n",
    "\n",
    "print(r\"Network Flow processed logs (Mon - Fri) loaded!\")"
   ]
  },
  {
   "cell_type": "code",
   "execution_count": 3,
   "id": "e41c32e6",
   "metadata": {},
   "outputs": [
    {
     "name": "stdout",
     "output_type": "stream",
     "text": [
      "<class 'pandas.core.frame.DataFrame'>\n",
      "RangeIndex: 371624 entries, 0 to 371623\n",
      "Columns: 91 entries, id to Attempted Category\n",
      "dtypes: float64(25), int64(61), object(5)\n",
      "memory usage: 258.0+ MB\n"
     ]
    }
   ],
   "source": [
    "df_mon.info(verbose=False)"
   ]
  },
  {
   "cell_type": "code",
   "execution_count": 4,
   "id": "000539c9",
   "metadata": {},
   "outputs": [
    {
     "name": "stdout",
     "output_type": "stream",
     "text": [
      "Dimensions: (371624, 91)\n",
      "Dimensions: (322078, 91)\n",
      "Dimensions: (496641, 91)\n",
      "Dimensions: (362076, 91)\n",
      "Dimensions: (547557, 91)\n"
     ]
    }
   ],
   "source": [
    "for df in [df_mon, df_tue, df_wed, df_thu, df_fri]:\n",
    "    print(f\"Dimensions: {df.shape}\")"
   ]
  },
  {
   "cell_type": "code",
   "execution_count": null,
   "id": "51bc42e3",
   "metadata": {},
   "outputs": [],
   "source": [
    "combined_df = pd.concat([df_mon, df_tue, df_wed, df_thu, df_fri], ignore_index=True)\n",
    "\n",
    "del df_mon, df_tue, df_wed, df_thu, df_fri, df"
   ]
  },
  {
   "cell_type": "code",
   "execution_count": 6,
   "id": "88f18c8b",
   "metadata": {},
   "outputs": [],
   "source": [
    "combined_df_y = combined_df['Label']\n",
    "combined_df_attempted = combined_df['Attempted Category']"
   ]
  },
  {
   "cell_type": "code",
   "execution_count": 8,
   "id": "5af5e0a3",
   "metadata": {},
   "outputs": [],
   "source": [
    "from pathlib import Path\n",
    "\n",
    "# Define the folder and ensure it exists\n",
    "output_dir = Path(\"1.0-Output\")\n",
    "output_dir.mkdir(parents=True, exist_ok=True)\n",
    "\n",
    "combined_df.to_csv(r\"1.0-Output/AllDaysCombined.csv\", index=False)\n",
    "combined_df_y.to_csv(r\"1.0-Output/AllDaysCombinedLabels.csv\", index=False)\n",
    "combined_df_attempted.to_csv(r\"1.0-Output/AllDaysCombinedAttemptedBool.csv\", index=False)"
   ]
  }
 ],
 "metadata": {
  "kernelspec": {
   "display_name": "Python 3",
   "language": "python",
   "name": "python3"
  },
  "language_info": {
   "codemirror_mode": {
    "name": "ipython",
    "version": 3
   },
   "file_extension": ".py",
   "mimetype": "text/x-python",
   "name": "python",
   "nbconvert_exporter": "python",
   "pygments_lexer": "ipython3",
   "version": "3.8.10"
  }
 },
 "nbformat": 4,
 "nbformat_minor": 5
}
