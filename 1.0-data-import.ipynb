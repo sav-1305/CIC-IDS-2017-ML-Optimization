{
 "cells": [
  {
   "cell_type": "code",
   "execution_count": null,
   "id": "19c50749",
   "metadata": {},
   "outputs": [],
   "source": [
    "import os\n",
    "import gdown\n",
    "\n",
    "folder_id = \"1MNzO17dFX2JWcojpVpg5ujvIzKrgICW4\"\n",
    "output_path = \"CIC-IDS-2017-ImprovedGeneratedLabels\"\n",
    "\n",
    "if not os.path.exists(output_path):\n",
    "    gdown.download_folder(\n",
    "        id=folder_id,\n",
    "        output=output_path,\n",
    "        quiet=False,\n",
    "        use_cookies=False\n",
    "    )"
   ]
  },
  {
   "cell_type": "code",
   "execution_count": null,
   "id": "8c992b56",
   "metadata": {},
   "outputs": [],
   "source": [
    "import pandas as pd\n",
    "\n",
    "folder = \"CIC-IDS-2017-ImprovedGeneratedLabels\"\n",
    "\n",
    "df_mon = pd.read_csv(f\"{folder}/monday.csv\")\n",
    "df_tue = pd.read_csv(f\"{folder}/tuesday.csv\")\n",
    "df_wed = pd.read_csv(f\"{folder}/wednesday.csv\")\n",
    "df_thu = pd.read_csv(f\"{folder}/thursday.csv\")\n",
    "df_fri = pd.read_csv(f\"{folder}/friday.csv\")"
   ]
  }
 ],
 "metadata": {
  "kernelspec": {
   "display_name": "Python 3",
   "language": "python",
   "name": "python3"
  },
  "language_info": {
   "codemirror_mode": {
    "name": "ipython",
    "version": 3
   },
   "file_extension": ".py",
   "mimetype": "text/x-python",
   "name": "python",
   "nbconvert_exporter": "python",
   "pygments_lexer": "ipython3",
   "version": "3.8.10"
  }
 },
 "nbformat": 4,
 "nbformat_minor": 5
}
