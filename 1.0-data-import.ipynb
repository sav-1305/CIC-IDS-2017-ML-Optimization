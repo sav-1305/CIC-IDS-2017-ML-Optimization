{
 "cells": [
  {
   "cell_type": "code",
   "execution_count": 1,
   "id": "19c50749",
   "metadata": {},
   "outputs": [
    {
     "name": "stderr",
     "output_type": "stream",
     "text": [
      "Retrieving folder contents\n"
     ]
    },
    {
     "name": "stdout",
     "output_type": "stream",
     "text": [
      "Processing file 1X1_OoGtGOTBBPu9-zOSK_wMVsJa9I2Pg friday.csv\n",
      "Processing file 1SY5UwhkrLw4uCd4jCZb_WU1bzov9GPhD monday.csv\n",
      "Processing file 1aWQxAgvXdQya86ygSsb1TJGNdw2DxtMJ thursday.csv\n",
      "Processing file 1OIkLmzHshhtjRIPdJQj3uNoVBEiKHUJi tuesday.csv\n",
      "Processing file 1sHc5IeNTnTOGJ6BDyW5GRelA9Rg7O7AX wednesday.csv\n"
     ]
    },
    {
     "name": "stderr",
     "output_type": "stream",
     "text": [
      "Retrieving folder contents completed\n",
      "Building directory structure\n",
      "Building directory structure completed\n",
      "Downloading...\n",
      "From (original): https://drive.google.com/uc?id=1X1_OoGtGOTBBPu9-zOSK_wMVsJa9I2Pg\n",
      "From (redirected): https://drive.google.com/uc?id=1X1_OoGtGOTBBPu9-zOSK_wMVsJa9I2Pg&confirm=t&uuid=a44de027-5506-4da3-a8e3-48a9562071d5\n",
      "To: c:\\Users\\HP\\Documents\\Articles and Publications\\FS vs FE vs FO for optimizing ML models\\Repositories\\CIC-IDS-2017-NIDS-Optimization\\CIC-IDS-2017-ImprovedGeneratedLabels\\friday.csv\n",
      "100%|██████████| 285M/285M [00:24<00:00, 11.8MB/s] \n",
      "Downloading...\n",
      "From (original): https://drive.google.com/uc?id=1SY5UwhkrLw4uCd4jCZb_WU1bzov9GPhD\n",
      "From (redirected): https://drive.google.com/uc?id=1SY5UwhkrLw4uCd4jCZb_WU1bzov9GPhD&confirm=t&uuid=bcd6ef9d-033d-4ae2-8773-01829f504edf\n",
      "To: c:\\Users\\HP\\Documents\\Articles and Publications\\FS vs FE vs FO for optimizing ML models\\Repositories\\CIC-IDS-2017-NIDS-Optimization\\CIC-IDS-2017-ImprovedGeneratedLabels\\monday.csv\n",
      "100%|██████████| 208M/208M [00:17<00:00, 11.7MB/s] \n",
      "Downloading...\n",
      "From (original): https://drive.google.com/uc?id=1aWQxAgvXdQya86ygSsb1TJGNdw2DxtMJ\n",
      "From (redirected): https://drive.google.com/uc?id=1aWQxAgvXdQya86ygSsb1TJGNdw2DxtMJ&confirm=t&uuid=bf272038-30b0-4b9a-8faa-1d724f6b12b7\n",
      "To: c:\\Users\\HP\\Documents\\Articles and Publications\\FS vs FE vs FO for optimizing ML models\\Repositories\\CIC-IDS-2017-NIDS-Optimization\\CIC-IDS-2017-ImprovedGeneratedLabels\\thursday.csv\n",
      "100%|██████████| 190M/190M [00:16<00:00, 11.6MB/s] \n",
      "Downloading...\n",
      "From (original): https://drive.google.com/uc?id=1OIkLmzHshhtjRIPdJQj3uNoVBEiKHUJi\n",
      "From (redirected): https://drive.google.com/uc?id=1OIkLmzHshhtjRIPdJQj3uNoVBEiKHUJi&confirm=t&uuid=44033341-c024-4170-92d5-55077da31adf\n",
      "To: c:\\Users\\HP\\Documents\\Articles and Publications\\FS vs FE vs FO for optimizing ML models\\Repositories\\CIC-IDS-2017-NIDS-Optimization\\CIC-IDS-2017-ImprovedGeneratedLabels\\tuesday.csv\n",
      "100%|██████████| 178M/178M [00:14<00:00, 12.4MB/s] \n",
      "Downloading...\n",
      "From (original): https://drive.google.com/uc?id=1sHc5IeNTnTOGJ6BDyW5GRelA9Rg7O7AX\n",
      "From (redirected): https://drive.google.com/uc?id=1sHc5IeNTnTOGJ6BDyW5GRelA9Rg7O7AX&confirm=t&uuid=389eb81d-48ae-4c75-bdee-8de0bba9bc6a\n",
      "To: c:\\Users\\HP\\Documents\\Articles and Publications\\FS vs FE vs FO for optimizing ML models\\Repositories\\CIC-IDS-2017-NIDS-Optimization\\CIC-IDS-2017-ImprovedGeneratedLabels\\wednesday.csv\n",
      "100%|██████████| 291M/291M [00:24<00:00, 12.1MB/s] \n",
      "Download completed\n"
     ]
    }
   ],
   "source": [
    "import os\n",
    "import gdown\n",
    "\n",
    "folder_id = \"1MNzO17dFX2JWcojpVpg5ujvIzKrgICW4\"\n",
    "output_path = \"CIC-IDS-2017-ImprovedGeneratedLabels\"\n",
    "\n",
    "if not os.path.exists(output_path):\n",
    "    gdown.download_folder(\n",
    "        id=folder_id,\n",
    "        output=output_path,\n",
    "        quiet=False,\n",
    "        use_cookies=False\n",
    "    )"
   ]
  },
  {
   "cell_type": "code",
   "execution_count": null,
   "id": "8c992b56",
   "metadata": {},
   "outputs": [],
   "source": [
    "import pandas as pd\n",
    "\n",
    "folder = \"CIC-IDS-2017-ImprovedGeneratedLabels\"\n",
    "\n",
    "df_mon = pd.read_csv(f\"{folder}/monday.csv\")\n",
    "df_tue = pd.read_csv(f\"{folder}/tuesday.csv\")\n",
    "df_wed = pd.read_csv(f\"{folder}/wednesday.csv\")\n",
    "df_thu = pd.read_csv(f\"{folder}/thursday.csv\")\n",
    "df_fri = pd.read_csv(f\"{folder}/friday.csv\")"
   ]
  }
 ],
 "metadata": {
  "kernelspec": {
   "display_name": "Python 3",
   "language": "python",
   "name": "python3"
  },
  "language_info": {
   "codemirror_mode": {
    "name": "ipython",
    "version": 3
   },
   "file_extension": ".py",
   "mimetype": "text/x-python",
   "name": "python",
   "nbconvert_exporter": "python",
   "pygments_lexer": "ipython3",
   "version": "3.8.10"
  }
 },
 "nbformat": 4,
 "nbformat_minor": 5
}
