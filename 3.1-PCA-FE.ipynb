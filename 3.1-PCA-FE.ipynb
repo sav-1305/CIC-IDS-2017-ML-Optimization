{
 "cells": [
  {
   "cell_type": "code",
   "execution_count": 1,
   "id": "b2c8415e",
   "metadata": {},
   "outputs": [],
   "source": [
    "import pandas as pd\n",
    "import numpy as np\n",
    "import matplotlib.pyplot as plt"
   ]
  },
  {
   "cell_type": "code",
   "execution_count": 2,
   "id": "75455bfe",
   "metadata": {},
   "outputs": [],
   "source": [
    "df = pd.read_csv(r\"1.1-Output/ProcessedFeatures.csv\")"
   ]
  },
  {
   "cell_type": "code",
   "execution_count": 3,
   "id": "d3e5f03c",
   "metadata": {},
   "outputs": [],
   "source": [
    "df.drop(columns=['ICMP Code', 'ICMP Type', 'Src Port', 'Dst Port', 'Protocol', 'Fwd URG Flags', 'Bwd URG Flags', 'URG Flag Count'], inplace=True)"
   ]
  },
  {
   "cell_type": "code",
   "execution_count": 4,
   "id": "d0201206",
   "metadata": {},
   "outputs": [
    {
     "name": "stdout",
     "output_type": "stream",
     "text": [
      "Any NaNs?  0\n",
      "Any infs?  0\n"
     ]
    }
   ],
   "source": [
    "# Step 3: Check for Missing or Infinite Values\n",
    "print(\"Any NaNs? \", df.isna().sum().sum())\n",
    "print(\"Any infs? \", np.isinf(df.values).sum())"
   ]
  },
  {
   "cell_type": "code",
   "execution_count": 5,
   "id": "779bdecc",
   "metadata": {},
   "outputs": [
    {
     "name": "stdout",
     "output_type": "stream",
     "text": [
      "Scaled shape: (2099971, 76)\n"
     ]
    },
    {
     "data": {
      "application/vnd.microsoft.datawrangler.viewer.v0+json": {
       "columns": [
        {
         "name": "index",
         "rawType": "int64",
         "type": "integer"
        },
        {
         "name": "Flow Duration",
         "rawType": "float64",
         "type": "float"
        },
        {
         "name": "Total Fwd Packet",
         "rawType": "float64",
         "type": "float"
        },
        {
         "name": "Total Bwd packets",
         "rawType": "float64",
         "type": "float"
        },
        {
         "name": "Total Length of Fwd Packet",
         "rawType": "float64",
         "type": "float"
        },
        {
         "name": "Total Length of Bwd Packet",
         "rawType": "float64",
         "type": "float"
        },
        {
         "name": "Fwd Packet Length Max",
         "rawType": "float64",
         "type": "float"
        },
        {
         "name": "Fwd Packet Length Min",
         "rawType": "float64",
         "type": "float"
        },
        {
         "name": "Fwd Packet Length Mean",
         "rawType": "float64",
         "type": "float"
        },
        {
         "name": "Fwd Packet Length Std",
         "rawType": "float64",
         "type": "float"
        },
        {
         "name": "Bwd Packet Length Max",
         "rawType": "float64",
         "type": "float"
        },
        {
         "name": "Bwd Packet Length Min",
         "rawType": "float64",
         "type": "float"
        },
        {
         "name": "Bwd Packet Length Mean",
         "rawType": "float64",
         "type": "float"
        },
        {
         "name": "Bwd Packet Length Std",
         "rawType": "float64",
         "type": "float"
        },
        {
         "name": "Flow Bytes/s",
         "rawType": "float64",
         "type": "float"
        },
        {
         "name": "Flow Packets/s",
         "rawType": "float64",
         "type": "float"
        },
        {
         "name": "Flow IAT Mean",
         "rawType": "float64",
         "type": "float"
        },
        {
         "name": "Flow IAT Std",
         "rawType": "float64",
         "type": "float"
        },
        {
         "name": "Flow IAT Max",
         "rawType": "float64",
         "type": "float"
        },
        {
         "name": "Flow IAT Min",
         "rawType": "float64",
         "type": "float"
        },
        {
         "name": "Fwd IAT Total",
         "rawType": "float64",
         "type": "float"
        },
        {
         "name": "Fwd IAT Mean",
         "rawType": "float64",
         "type": "float"
        },
        {
         "name": "Fwd IAT Std",
         "rawType": "float64",
         "type": "float"
        },
        {
         "name": "Fwd IAT Max",
         "rawType": "float64",
         "type": "float"
        },
        {
         "name": "Fwd IAT Min",
         "rawType": "float64",
         "type": "float"
        },
        {
         "name": "Bwd IAT Total",
         "rawType": "float64",
         "type": "float"
        },
        {
         "name": "Bwd IAT Mean",
         "rawType": "float64",
         "type": "float"
        },
        {
         "name": "Bwd IAT Std",
         "rawType": "float64",
         "type": "float"
        },
        {
         "name": "Bwd IAT Max",
         "rawType": "float64",
         "type": "float"
        },
        {
         "name": "Bwd IAT Min",
         "rawType": "float64",
         "type": "float"
        },
        {
         "name": "Fwd PSH Flags",
         "rawType": "float64",
         "type": "float"
        },
        {
         "name": "Bwd PSH Flags",
         "rawType": "float64",
         "type": "float"
        },
        {
         "name": "Fwd RST Flags",
         "rawType": "float64",
         "type": "float"
        },
        {
         "name": "Bwd RST Flags",
         "rawType": "float64",
         "type": "float"
        },
        {
         "name": "Fwd Header Length",
         "rawType": "float64",
         "type": "float"
        },
        {
         "name": "Bwd Header Length",
         "rawType": "float64",
         "type": "float"
        },
        {
         "name": "Fwd Packets/s",
         "rawType": "float64",
         "type": "float"
        },
        {
         "name": "Bwd Packets/s",
         "rawType": "float64",
         "type": "float"
        },
        {
         "name": "Packet Length Min",
         "rawType": "float64",
         "type": "float"
        },
        {
         "name": "Packet Length Max",
         "rawType": "float64",
         "type": "float"
        },
        {
         "name": "Packet Length Mean",
         "rawType": "float64",
         "type": "float"
        },
        {
         "name": "Packet Length Std",
         "rawType": "float64",
         "type": "float"
        },
        {
         "name": "Packet Length Variance",
         "rawType": "float64",
         "type": "float"
        },
        {
         "name": "FIN Flag Count",
         "rawType": "float64",
         "type": "float"
        },
        {
         "name": "SYN Flag Count",
         "rawType": "float64",
         "type": "float"
        },
        {
         "name": "RST Flag Count",
         "rawType": "float64",
         "type": "float"
        },
        {
         "name": "PSH Flag Count",
         "rawType": "float64",
         "type": "float"
        },
        {
         "name": "ACK Flag Count",
         "rawType": "float64",
         "type": "float"
        },
        {
         "name": "CWR Flag Count",
         "rawType": "float64",
         "type": "float"
        },
        {
         "name": "ECE Flag Count",
         "rawType": "float64",
         "type": "float"
        },
        {
         "name": "Down/Up Ratio",
         "rawType": "float64",
         "type": "float"
        },
        {
         "name": "Average Packet Size",
         "rawType": "float64",
         "type": "float"
        },
        {
         "name": "Fwd Segment Size Avg",
         "rawType": "float64",
         "type": "float"
        },
        {
         "name": "Bwd Segment Size Avg",
         "rawType": "float64",
         "type": "float"
        },
        {
         "name": "Fwd Bytes/Bulk Avg",
         "rawType": "float64",
         "type": "float"
        },
        {
         "name": "Fwd Packet/Bulk Avg",
         "rawType": "float64",
         "type": "float"
        },
        {
         "name": "Fwd Bulk Rate Avg",
         "rawType": "float64",
         "type": "float"
        },
        {
         "name": "Bwd Bytes/Bulk Avg",
         "rawType": "float64",
         "type": "float"
        },
        {
         "name": "Bwd Packet/Bulk Avg",
         "rawType": "float64",
         "type": "float"
        },
        {
         "name": "Bwd Bulk Rate Avg",
         "rawType": "float64",
         "type": "float"
        },
        {
         "name": "Subflow Fwd Packets",
         "rawType": "float64",
         "type": "float"
        },
        {
         "name": "Subflow Fwd Bytes",
         "rawType": "float64",
         "type": "float"
        },
        {
         "name": "Subflow Bwd Packets",
         "rawType": "float64",
         "type": "float"
        },
        {
         "name": "Subflow Bwd Bytes",
         "rawType": "float64",
         "type": "float"
        },
        {
         "name": "FWD Init Win Bytes",
         "rawType": "float64",
         "type": "float"
        },
        {
         "name": "Bwd Init Win Bytes",
         "rawType": "float64",
         "type": "float"
        },
        {
         "name": "Fwd Act Data Pkts",
         "rawType": "float64",
         "type": "float"
        },
        {
         "name": "Fwd Seg Size Min",
         "rawType": "float64",
         "type": "float"
        },
        {
         "name": "Active Mean",
         "rawType": "float64",
         "type": "float"
        },
        {
         "name": "Active Std",
         "rawType": "float64",
         "type": "float"
        },
        {
         "name": "Active Max",
         "rawType": "float64",
         "type": "float"
        },
        {
         "name": "Active Min",
         "rawType": "float64",
         "type": "float"
        },
        {
         "name": "Idle Mean",
         "rawType": "float64",
         "type": "float"
        },
        {
         "name": "Idle Std",
         "rawType": "float64",
         "type": "float"
        },
        {
         "name": "Idle Max",
         "rawType": "float64",
         "type": "float"
        },
        {
         "name": "Idle Min",
         "rawType": "float64",
         "type": "float"
        },
        {
         "name": "Total TCP Flow Time",
         "rawType": "float64",
         "type": "float"
        }
       ],
       "ref": "6b32e59e-6923-49ca-946c-a3d1f617dd0f",
       "rows": [
        [
         "0",
         "3.4572063966400153",
         "0.251016661606315",
         "-0.012269549569062576",
         "-0.05452438840491186",
         "-0.008342613902179212",
         "-0.42736852296300726",
         "-0.6060492268873795",
         "-0.5427560852447455",
         "-0.39106158122314816",
         "-0.5474841466923758",
         "-0.7209466639273456",
         "-0.6116301355918247",
         "-0.48656463374602477",
         "-0.11716813772590802",
         "-0.1807607781456918",
         "-0.09779606630836377",
         "0.09339672749436194",
         "1.0921631037361275",
         "-0.04491972533468479",
         "3.4618214890032895",
         "-0.15511152241825943",
         "0.21150561507374144",
         "1.0944189483606506",
         "-0.12807050794814193",
         "-0.37889012666755506",
         "-0.21326022277296947",
         "-0.2715857935181342",
         "-0.31072256347189675",
         "-0.13517423502046336",
         "-0.16569503589524107",
         "-0.06909457798883697",
         "-0.32260568040369164",
         "-0.35166880268965184",
         "-0.260218056356801",
         "-0.214374642462541",
         "-0.14538622247823252",
         "-0.1941080168566774",
         "-0.7982615710545842",
         "-0.5601844059253427",
         "-0.7223876362764872",
         "-0.5720606912343495",
         "-0.37252233738897644",
         "-0.6908796041709009",
         "-0.8865305155431379",
         "-0.4551066018576289",
         "-0.11198889958315798",
         "-0.011876033587019738",
         "-0.014611793050288494",
         "-0.013290492239729872",
         "-3.4788816175261226",
         "-0.722387636276487",
         "-0.5427560852447455",
         "-0.6116301355918247",
         "-0.027385004299341077",
         "-0.049929742846203225",
         "-0.04462748307822161",
         "-0.013425448875974435",
         "-0.01838506572518934",
         "-0.2578219067826692",
         "6.094006351313588",
         "-0.5607101196491188",
         "-0.0039641833551895345",
         "-0.6396444229011697",
         "-0.6531882187998687",
         "-0.17044895524293707",
         "-0.19736865987245428",
         "-1.7045881268885374",
         "10.96112962487346",
         "18.418501758285544",
         "18.275408294993753",
         "-0.1318768434216302",
         "0.5939584007958368",
         "1.8801739003539963",
         "1.1048717523423484",
         "0.17264892243815463",
         "-0.08219303294770515"
        ],
        [
         "1",
         "1.7102819159902352",
         "-0.007492076225582589",
         "-0.007088138233345298",
         "-0.026995636714928217",
         "-0.008233002419127482",
         "-0.32976457514245083",
         "0.7644796284769546",
         "-0.01935697133111102",
         "-0.39106158122314816",
         "-0.5261530556007006",
         "-0.07361458649483124",
         "-0.5400775306920469",
         "-0.48656463374602477",
         "-0.11716592715011052",
         "-0.18077712008484514",
         "1.2310359339678554",
         "2.896883014097273",
         "4.091178982115794",
         "-0.04491848640420786",
         "1.7136966146585764",
         "1.133510038206346",
         "6.364727194309189",
         "4.093702819518693",
         "-0.12807019240218984",
         "1.756029573269363",
         "1.1327943389054183",
         "6.0198988246313",
         "4.226024910058836",
         "-0.13517391270181406",
         "-0.16569503589524107",
         "-0.06909457798883697",
         "-0.32260568040369164",
         "-0.35166880268965184",
         "-0.18991888451286013",
         "-0.15652566043158775",
         "-0.14540530098068252",
         "-0.1941046693467148",
         "1.0380901181420894",
         "-0.5390074790806466",
         "-0.5588454002196925",
         "-0.5720606912343495",
         "-0.37252233738897644",
         "-0.6908796041709009",
         "-0.8865305155431379",
         "-0.4551066018576289",
         "-0.11198889958315798",
         "-0.011876033587019738",
         "-0.014611793050288494",
         "-0.013290492239729872",
         "0.34381833953750746",
         "-0.5588454002196924",
         "-0.01935697133111102",
         "-0.5400775306920469",
         "-0.027385004299341077",
         "-0.049929742846203225",
         "-0.04462748307822161",
         "-0.013425448875974435",
         "-0.01838506572518934",
         "-0.2578219067826692",
         "-0.1640956609414176",
         "-0.03760963805562555",
         "-0.0039641833551895345",
         "-0.556984917687491",
         "-0.6531882187998687",
         "-0.17044895524293707",
         "0.24661637100642195",
         "-0.9045558462274669",
         "1.759372331621511",
         "-0.12661224827632858",
         "1.0487781134186644",
         "2.0180781730971153",
         "4.287819248593969",
         "-0.1090854744957417",
         "4.092574904395827",
         "4.389093490074403",
         "-0.08219303294770515"
        ],
        [
         "2",
         "3.2721553624580357",
         "0.2923780596594186",
         "-0.012269549569062576",
         "1.899921395640559",
         "-0.008342613902179212",
         "-0.11625593928498365",
         "0.4504000991226281",
         "0.2922893019425277",
         "-0.10647855868592104",
         "-0.5474841466923758",
         "-0.7209466639273456",
         "-0.6116301355918247",
         "-0.48656463374602477",
         "-0.11712303412515378",
         "-0.18075691277262113",
         "-0.12029760021809537",
         "0.3289986479104463",
         "3.0191528779746206",
         "-0.04491972533468479",
         "3.2766436801809626",
         "-0.16453760683871307",
         "0.5468583596891099",
         "3.0215774926558363",
         "-0.12807050794814193",
         "-0.37889012666755506",
         "-0.21326022277296947",
         "-0.2715857935181342",
         "-0.31072256347189675",
         "-0.13517423502046336",
         "-0.16569503589524107",
         "-0.06909457798883697",
         "-0.32260568040369164",
         "-0.35166880268965184",
         "2.868095090698569",
         "-0.214374642462541",
         "-0.1453819346974063",
         "-0.1941080168566774",
         "0.6172595227011851",
         "-0.49268295160787406",
         "-0.46146784065747304",
         "-0.50539704126614",
         "-0.3712750209722985",
         "-0.6908796041709009",
         "-0.8865305155431379",
         "-0.4551066018576289",
         "-0.11198889958315798",
         "-0.011876033587019738",
         "-0.014611793050288494",
         "-0.013290492239729872",
         "-3.4788816175261226",
         "-0.46146784065747326",
         "0.29228930194252695",
         "-0.6116301355918247",
         "0.7423707174604501",
         "5.284464769550094",
         "-0.04346961268676604",
         "-0.013425448875974435",
         "-0.01838506572518934",
         "-0.2578219067826692",
         "6.094006351313588",
         "1.0957747387302765",
         "-0.0039641833551895345",
         "-0.6396444229011697",
         "-0.6531882187998687",
         "-0.17044895524293707",
         "23.42263498288376",
         "-0.9045558462274669",
         "3.3405259442797957",
         "11.497597237523646",
         "8.822259623488813",
         "-0.1318811256517624",
         "1.5161886524775956",
         "6.964018654485769",
         "3.0245926394414036",
         "0.09665519767301847",
         "-0.08219303294770515"
        ],
        [
         "3",
         "1.7594589202562214",
         "-0.005194220778187944",
         "-0.005361001121439539",
         "-0.017819386151600333",
         "-0.00819646525811024",
         "-0.32976457514245083",
         "0.7644796284769546",
         "-0.01935697133111102",
         "-0.39106158122314816",
         "-0.5261530556007006",
         "-0.07361458649483124",
         "-0.5400775306920469",
         "-0.48656463374602477",
         "-0.11716525738480942",
         "-0.18077660073815505",
         "0.8676167974750877",
         "2.0737705118728997",
         "3.5338605287611573",
         "-0.026370458234099635",
         "1.7614210753949113",
         "0.7717536741782388",
         "4.4884977371203885",
         "3.5394426858839587",
         "-0.023638155917138977",
         "1.804260314181322",
         "0.7699281813294172",
         "4.254932011387597",
         "3.658799947038681",
         "-0.028628259992728125",
         "-0.16569503589524107",
         "-0.06909457798883697",
         "-0.32260568040369164",
         "-0.35166880268965184",
         "-0.16648582723154648",
         "-0.13724266642126998",
         "-0.14540501293024868",
         "-0.19410365511050515",
         "1.0380901181420894",
         "-0.5390074790806466",
         "-0.5588454002196925",
         "-0.5720606912343495",
         "-0.37252233738897644",
         "-0.6908796041709009",
         "-0.8865305155431379",
         "-0.4551066018576289",
         "-0.11198889958315798",
         "-0.011876033587019738",
         "-0.014611793050288494",
         "-0.013290492239729872",
         "0.34381833953750746",
         "-0.5588454002196924",
         "-0.01935697133111102",
         "-0.5400775306920469",
         "-0.027385004299341077",
         "-0.049929742846203225",
         "-0.04462748307822161",
         "-0.013425448875974435",
         "-0.01838506572518934",
         "-0.2578219067826692",
         "-0.1640956609414176",
         "-0.03760963805562555",
         "-0.0039641833551895345",
         "-0.556984917687491",
         "-0.6531882187998687",
         "-0.17044895524293707",
         "0.4242103833579725",
         "-0.9045558462274669",
         "13.911592595403746",
         "-0.12661224827632858",
         "8.863923575573732",
         "15.619113383195286",
         "3.7085004846435248",
         "-0.1090854744957417",
         "3.537358737722893",
         "3.7989465697153184",
         "-0.08219303294770515"
        ],
        [
         "4",
         "1.7919386102513006",
         "-0.005194220778187944",
         "-0.005361001121439539",
         "-0.017819386151600333",
         "-0.00819646525811024",
         "-0.32976457514245083",
         "0.7644796284769546",
         "-0.01935697133111102",
         "-0.39106158122314816",
         "-0.5261530556007006",
         "-0.07361458649483124",
         "-0.5400775306920469",
         "-0.48656463374602477",
         "-0.11716530004747426",
         "-0.18077663381946538",
         "0.8840444762251166",
         "2.1155992445302836",
         "3.6022454907458976",
         "-0.02119379372466347",
         "1.793556738816183",
         "0.7863339785850939",
         "4.577356323316681",
         "3.6086996837833425",
         "-0.024014497056002584",
         "1.8367329346765104",
         "0.7845523241847635",
         "4.338413888841158",
         "3.7296063855313895",
         "-0.028879131341424998",
         "-0.16569503589524107",
         "-0.06909457798883697",
         "-0.32260568040369164",
         "-0.35166880268965184",
         "-0.16648582723154648",
         "-0.13724266642126998",
         "-0.14540503127846574",
         "-0.19410371971525459",
         "1.0380901181420894",
         "-0.5390074790806466",
         "-0.5588454002196925",
         "-0.5720606912343495",
         "-0.37252233738897644",
         "-0.6908796041709009",
         "-0.8865305155431379",
         "-0.4551066018576289",
         "-0.11198889958315798",
         "-0.011876033587019738",
         "-0.014611793050288494",
         "-0.013290492239729872",
         "0.34381833953750746",
         "-0.5588454002196924",
         "-0.01935697133111102",
         "-0.5400775306920469",
         "-0.027385004299341077",
         "-0.049929742846203225",
         "-0.04462748307822161",
         "-0.013425448875974435",
         "-0.01838506572518934",
         "-0.2578219067826692",
         "-0.1640956609414176",
         "-0.03760963805562555",
         "-0.0039641833551895345",
         "-0.556984917687491",
         "-0.6531882187998687",
         "-0.17044895524293707",
         "0.4242103833579725",
         "-0.9045558462274669",
         "13.922962419969684",
         "-0.12661224827632858",
         "8.871235558975384",
         "15.631838743738234",
         "3.7795849632057106",
         "-0.1090854744957417",
         "3.6054857416336743",
         "3.8713597016890544",
         "-0.08219303294770515"
        ]
       ],
       "shape": {
        "columns": 76,
        "rows": 5
       }
      },
      "text/html": [
       "<div>\n",
       "<style scoped>\n",
       "    .dataframe tbody tr th:only-of-type {\n",
       "        vertical-align: middle;\n",
       "    }\n",
       "\n",
       "    .dataframe tbody tr th {\n",
       "        vertical-align: top;\n",
       "    }\n",
       "\n",
       "    .dataframe thead th {\n",
       "        text-align: right;\n",
       "    }\n",
       "</style>\n",
       "<table border=\"1\" class=\"dataframe\">\n",
       "  <thead>\n",
       "    <tr style=\"text-align: right;\">\n",
       "      <th></th>\n",
       "      <th>Flow Duration</th>\n",
       "      <th>Total Fwd Packet</th>\n",
       "      <th>Total Bwd packets</th>\n",
       "      <th>Total Length of Fwd Packet</th>\n",
       "      <th>Total Length of Bwd Packet</th>\n",
       "      <th>Fwd Packet Length Max</th>\n",
       "      <th>Fwd Packet Length Min</th>\n",
       "      <th>Fwd Packet Length Mean</th>\n",
       "      <th>Fwd Packet Length Std</th>\n",
       "      <th>Bwd Packet Length Max</th>\n",
       "      <th>...</th>\n",
       "      <th>Fwd Seg Size Min</th>\n",
       "      <th>Active Mean</th>\n",
       "      <th>Active Std</th>\n",
       "      <th>Active Max</th>\n",
       "      <th>Active Min</th>\n",
       "      <th>Idle Mean</th>\n",
       "      <th>Idle Std</th>\n",
       "      <th>Idle Max</th>\n",
       "      <th>Idle Min</th>\n",
       "      <th>Total TCP Flow Time</th>\n",
       "    </tr>\n",
       "  </thead>\n",
       "  <tbody>\n",
       "    <tr>\n",
       "      <th>0</th>\n",
       "      <td>3.457206</td>\n",
       "      <td>0.251017</td>\n",
       "      <td>-0.012270</td>\n",
       "      <td>-0.054524</td>\n",
       "      <td>-0.008343</td>\n",
       "      <td>-0.427369</td>\n",
       "      <td>-0.606049</td>\n",
       "      <td>-0.542756</td>\n",
       "      <td>-0.391062</td>\n",
       "      <td>-0.547484</td>\n",
       "      <td>...</td>\n",
       "      <td>-1.704588</td>\n",
       "      <td>10.961130</td>\n",
       "      <td>18.418502</td>\n",
       "      <td>18.275408</td>\n",
       "      <td>-0.131877</td>\n",
       "      <td>0.593958</td>\n",
       "      <td>1.880174</td>\n",
       "      <td>1.104872</td>\n",
       "      <td>0.172649</td>\n",
       "      <td>-0.082193</td>\n",
       "    </tr>\n",
       "    <tr>\n",
       "      <th>1</th>\n",
       "      <td>1.710282</td>\n",
       "      <td>-0.007492</td>\n",
       "      <td>-0.007088</td>\n",
       "      <td>-0.026996</td>\n",
       "      <td>-0.008233</td>\n",
       "      <td>-0.329765</td>\n",
       "      <td>0.764480</td>\n",
       "      <td>-0.019357</td>\n",
       "      <td>-0.391062</td>\n",
       "      <td>-0.526153</td>\n",
       "      <td>...</td>\n",
       "      <td>-0.904556</td>\n",
       "      <td>1.759372</td>\n",
       "      <td>-0.126612</td>\n",
       "      <td>1.048778</td>\n",
       "      <td>2.018078</td>\n",
       "      <td>4.287819</td>\n",
       "      <td>-0.109085</td>\n",
       "      <td>4.092575</td>\n",
       "      <td>4.389093</td>\n",
       "      <td>-0.082193</td>\n",
       "    </tr>\n",
       "    <tr>\n",
       "      <th>2</th>\n",
       "      <td>3.272155</td>\n",
       "      <td>0.292378</td>\n",
       "      <td>-0.012270</td>\n",
       "      <td>1.899921</td>\n",
       "      <td>-0.008343</td>\n",
       "      <td>-0.116256</td>\n",
       "      <td>0.450400</td>\n",
       "      <td>0.292289</td>\n",
       "      <td>-0.106479</td>\n",
       "      <td>-0.547484</td>\n",
       "      <td>...</td>\n",
       "      <td>-0.904556</td>\n",
       "      <td>3.340526</td>\n",
       "      <td>11.497597</td>\n",
       "      <td>8.822260</td>\n",
       "      <td>-0.131881</td>\n",
       "      <td>1.516189</td>\n",
       "      <td>6.964019</td>\n",
       "      <td>3.024593</td>\n",
       "      <td>0.096655</td>\n",
       "      <td>-0.082193</td>\n",
       "    </tr>\n",
       "    <tr>\n",
       "      <th>3</th>\n",
       "      <td>1.759459</td>\n",
       "      <td>-0.005194</td>\n",
       "      <td>-0.005361</td>\n",
       "      <td>-0.017819</td>\n",
       "      <td>-0.008196</td>\n",
       "      <td>-0.329765</td>\n",
       "      <td>0.764480</td>\n",
       "      <td>-0.019357</td>\n",
       "      <td>-0.391062</td>\n",
       "      <td>-0.526153</td>\n",
       "      <td>...</td>\n",
       "      <td>-0.904556</td>\n",
       "      <td>13.911593</td>\n",
       "      <td>-0.126612</td>\n",
       "      <td>8.863924</td>\n",
       "      <td>15.619113</td>\n",
       "      <td>3.708500</td>\n",
       "      <td>-0.109085</td>\n",
       "      <td>3.537359</td>\n",
       "      <td>3.798947</td>\n",
       "      <td>-0.082193</td>\n",
       "    </tr>\n",
       "    <tr>\n",
       "      <th>4</th>\n",
       "      <td>1.791939</td>\n",
       "      <td>-0.005194</td>\n",
       "      <td>-0.005361</td>\n",
       "      <td>-0.017819</td>\n",
       "      <td>-0.008196</td>\n",
       "      <td>-0.329765</td>\n",
       "      <td>0.764480</td>\n",
       "      <td>-0.019357</td>\n",
       "      <td>-0.391062</td>\n",
       "      <td>-0.526153</td>\n",
       "      <td>...</td>\n",
       "      <td>-0.904556</td>\n",
       "      <td>13.922962</td>\n",
       "      <td>-0.126612</td>\n",
       "      <td>8.871236</td>\n",
       "      <td>15.631839</td>\n",
       "      <td>3.779585</td>\n",
       "      <td>-0.109085</td>\n",
       "      <td>3.605486</td>\n",
       "      <td>3.871360</td>\n",
       "      <td>-0.082193</td>\n",
       "    </tr>\n",
       "  </tbody>\n",
       "</table>\n",
       "<p>5 rows × 76 columns</p>\n",
       "</div>"
      ],
      "text/plain": [
       "   Flow Duration  Total Fwd Packet  Total Bwd packets  \\\n",
       "0       3.457206          0.251017          -0.012270   \n",
       "1       1.710282         -0.007492          -0.007088   \n",
       "2       3.272155          0.292378          -0.012270   \n",
       "3       1.759459         -0.005194          -0.005361   \n",
       "4       1.791939         -0.005194          -0.005361   \n",
       "\n",
       "   Total Length of Fwd Packet  Total Length of Bwd Packet  \\\n",
       "0                   -0.054524                   -0.008343   \n",
       "1                   -0.026996                   -0.008233   \n",
       "2                    1.899921                   -0.008343   \n",
       "3                   -0.017819                   -0.008196   \n",
       "4                   -0.017819                   -0.008196   \n",
       "\n",
       "   Fwd Packet Length Max  Fwd Packet Length Min  Fwd Packet Length Mean  \\\n",
       "0              -0.427369              -0.606049               -0.542756   \n",
       "1              -0.329765               0.764480               -0.019357   \n",
       "2              -0.116256               0.450400                0.292289   \n",
       "3              -0.329765               0.764480               -0.019357   \n",
       "4              -0.329765               0.764480               -0.019357   \n",
       "\n",
       "   Fwd Packet Length Std  Bwd Packet Length Max  ...  Fwd Seg Size Min  \\\n",
       "0              -0.391062              -0.547484  ...         -1.704588   \n",
       "1              -0.391062              -0.526153  ...         -0.904556   \n",
       "2              -0.106479              -0.547484  ...         -0.904556   \n",
       "3              -0.391062              -0.526153  ...         -0.904556   \n",
       "4              -0.391062              -0.526153  ...         -0.904556   \n",
       "\n",
       "   Active Mean  Active Std  Active Max  Active Min  Idle Mean  Idle Std  \\\n",
       "0    10.961130   18.418502   18.275408   -0.131877   0.593958  1.880174   \n",
       "1     1.759372   -0.126612    1.048778    2.018078   4.287819 -0.109085   \n",
       "2     3.340526   11.497597    8.822260   -0.131881   1.516189  6.964019   \n",
       "3    13.911593   -0.126612    8.863924   15.619113   3.708500 -0.109085   \n",
       "4    13.922962   -0.126612    8.871236   15.631839   3.779585 -0.109085   \n",
       "\n",
       "   Idle Max  Idle Min  Total TCP Flow Time  \n",
       "0  1.104872  0.172649            -0.082193  \n",
       "1  4.092575  4.389093            -0.082193  \n",
       "2  3.024593  0.096655            -0.082193  \n",
       "3  3.537359  3.798947            -0.082193  \n",
       "4  3.605486  3.871360            -0.082193  \n",
       "\n",
       "[5 rows x 76 columns]"
      ]
     },
     "execution_count": 5,
     "metadata": {},
     "output_type": "execute_result"
    }
   ],
   "source": [
    "from sklearn.preprocessing import StandardScaler\n",
    "\n",
    "scaler = StandardScaler()\n",
    "X_scaled = scaler.fit_transform(df)\n",
    "\n",
    "# Check shape and a few rows\n",
    "print(\"Scaled shape:\", X_scaled.shape)\n",
    "pd.DataFrame(X_scaled, columns=df.columns).head()"
   ]
  },
  {
   "cell_type": "code",
   "execution_count": 6,
   "id": "65e13ab6",
   "metadata": {},
   "outputs": [
    {
     "name": "stdout",
     "output_type": "stream",
     "text": [
      "Original shape: (2099971, 76)\n",
      "PCA shape: (2099971, 76)\n"
     ]
    }
   ],
   "source": [
    "from sklearn.decomposition import PCA\n",
    "\n",
    "# Step 5: Apply PCA (retain all components for now)\n",
    "pca = PCA()\n",
    "X_pca = pca.fit_transform(X_scaled)\n",
    "\n",
    "print(\"Original shape:\", X_scaled.shape)\n",
    "print(\"PCA shape:\", X_pca.shape)"
   ]
  },
  {
   "cell_type": "code",
   "execution_count": 7,
   "id": "dbde32d8",
   "metadata": {},
   "outputs": [
    {
     "data": {
      "image/png": "[encoded data removed]",
      "text/plain": [
       "<Figure size 1000x600 with 1 Axes>"
      ]
     },
     "metadata": {},
     "output_type": "display_data"
    }
   ],
   "source": [
    "# Step 6: Explained Variance Plot\n",
    "plt.figure(figsize=(10, 6))\n",
    "plt.plot(np.cumsum(pca.explained_variance_ratio_), marker='o')\n",
    "plt.xlabel(\"Number of Principal Components\")\n",
    "plt.ylabel(\"Cumulative Explained Variance\")\n",
    "plt.title(\"Explained Variance vs. Number of Components\")\n",
    "plt.grid(True)\n",
    "plt.axhline(y=0.90, color='r', linestyle='--', label=\"90% Variance\")\n",
    "plt.legend()\n",
    "plt.show()"
   ]
  },
  {
   "cell_type": "code",
   "execution_count": 8,
   "id": "27509176",
   "metadata": {},
   "outputs": [
    {
     "name": "stdout",
     "output_type": "stream",
     "text": [
      "Number of components to retain 90% variance: 23\n"
     ]
    }
   ],
   "source": [
    "# Step 7: Choose Number of Components to Retain (e.g., 90% variance)\n",
    "# You can adjust this value based on the elbow curve above\n",
    "n_components = np.argmax(np.cumsum(pca.explained_variance_ratio_) >= 0.90) + 1\n",
    "print(f\"Number of components to retain 90% variance: {n_components}\")"
   ]
  },
  {
   "cell_type": "code",
   "execution_count": 9,
   "id": "8e945505",
   "metadata": {},
   "outputs": [
    {
     "name": "stdout",
     "output_type": "stream",
     "text": [
      "Reduced PCA shape: (2099971, 23)\n"
     ]
    }
   ],
   "source": [
    "# Step 8: Re-fit PCA with reduced number of components\n",
    "pca_reduced = PCA(n_components=n_components)\n",
    "X_reduced = pca_reduced.fit_transform(X_scaled)\n",
    "\n",
    "print(\"Reduced PCA shape:\", X_reduced.shape)"
   ]
  }
 ],
 "metadata": {
  "kernelspec": {
   "display_name": "Python 3",
   "language": "python",
   "name": "python3"
  },
  "language_info": {
   "codemirror_mode": {
    "name": "ipython",
    "version": 3
   },
   "file_extension": ".py",
   "mimetype": "text/x-python",
   "name": "python",
   "nbconvert_exporter": "python",
   "pygments_lexer": "ipython3",
   "version": "3.8.10"
  }
 },
 "nbformat": 4,
 "nbformat_minor": 5
}
